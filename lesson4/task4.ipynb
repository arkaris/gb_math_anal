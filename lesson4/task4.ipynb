{
 "cells": [
  {
   "cell_type": "code",
   "execution_count": 1,
   "metadata": {},
   "outputs": [],
   "source": [
    "import numpy as np"
   ]
  },
  {
   "cell_type": "markdown",
   "metadata": {},
   "source": [
    "1. Напишите код, моделирующий выпадение поля в рулетке (с учетом поля зеро)."
   ]
  },
  {
   "cell_type": "code",
   "execution_count": 14,
   "metadata": {},
   "outputs": [
    {
     "name": "stdout",
     "output_type": "stream",
     "text": [
      "12\n",
      "6\n",
      "36\n"
     ]
    }
   ],
   "source": [
    "def roulette():\n",
    "    return int(np.random.uniform(0, 37))\n",
    "\n",
    "print(roulette())\n",
    "print(roulette())\n",
    "print(roulette())"
   ]
  },
  {
   "cell_type": "markdown",
   "metadata": {},
   "source": [
    "2. \n",
    "Напишите код, проверяющий любую из теорем сложения или умножения вероятности на примере рулетки или подбрасывания монетки."
   ]
  },
  {
   "cell_type": "code",
   "execution_count": 19,
   "metadata": {},
   "outputs": [
    {
     "name": "stdout",
     "output_type": "stream",
     "text": [
      "1.0\n"
     ]
    }
   ],
   "source": [
    "n=1000\n",
    "\n",
    "odd = 0\n",
    "even = 0\n",
    "zero = 0\n",
    "for i in range(n):\n",
    "    res = roulette()\n",
    "    if res == 0:\n",
    "        zero += 1\n",
    "    elif res % 2 == 0:\n",
    "        even += 1\n",
    "    elif res % 2 == 1:\n",
    "        odd += 1\n",
    "\n",
    "def p(res):\n",
    "    return res / n\n",
    "\n",
    "print(p(zero) + p(even) + p(odd))"
   ]
  },
  {
   "cell_type": "markdown",
   "metadata": {},
   "source": [
    "Сгенерируйте десять выборок случайных чисел х0, …, х9.\n",
    "и постройте гистограмму распределения случайной суммы х0+х1+ …+ х9."
   ]
  },
  {
   "cell_type": "code",
   "execution_count": 36,
   "metadata": {},
   "outputs": [],
   "source": [
    "from matplotlib import pyplot as plt\n",
    "%matplotlib inline"
   ]
  },
  {
   "cell_type": "code",
   "execution_count": 39,
   "metadata": {},
   "outputs": [
    {
     "data": {
      "text/plain": [
       "(array([1., 1., 2., 0., 0., 2., 0., 0., 2., 2.]),\n",
       " array([0.4899568 , 0.49220426, 0.49445172, 0.49669918, 0.49894664,\n",
       "        0.5011941 , 0.50344156, 0.50568902, 0.50793647, 0.51018393,\n",
       "        0.51243139]),\n",
       " <a list of 10 Patch objects>)"
      ]
     },
     "execution_count": 39,
     "metadata": {},
     "output_type": "execute_result"
    },
    {
     "data": {
      "image/png": "[encoded data removed]",
      "text/plain": [
       "<Figure size 432x288 with 1 Axes>"
      ]
     },
     "metadata": {
      "needs_background": "light"
     },
     "output_type": "display_data"
    }
   ],
   "source": [
    "n = 1000\n",
    "x0 = np.random.rand(n)\n",
    "x1 = np.random.rand(n)\n",
    "x2 = np.random.rand(n)\n",
    "x3 = np.random.rand(n)\n",
    "x4 = np.random.rand(n)\n",
    "x5 = np.random.rand(n)\n",
    "x6 = np.random.rand(n)\n",
    "x7 = np.random.rand(n)\n",
    "x8 = np.random.rand(n)\n",
    "x9 = np.random.rand(n)\n",
    "\n",
    "s = np.sum([x0, x1, x2, x3, x4, x5, x6, x7, x8, x9], axis=1)/n\n",
    "\n",
    "plt.hist(s)"
   ]
  },
  {
   "cell_type": "markdown",
   "metadata": {},
   "source": [
    "3.\n",
    "Дополните код Монте-Карло последовательности независимых испытаний расчетом соответствующих вероятностей (через биномиальное распределение) \n",
    "и сравните результаты.\n",
    "\n",
    "Повторите расчеты биномиальных коэффициентов и вероятностей k успехов в последовательности из n независимых испытаний, взяв другие значения n и k.\n"
   ]
  },
  {
   "cell_type": "code",
   "execution_count": 59,
   "metadata": {},
   "outputs": [
    {
     "name": "stdout",
     "output_type": "stream",
     "text": [
      "37515 100000 0.37515\n"
     ]
    }
   ],
   "source": [
    "k, n = 0, 100000\n",
    "a = np.random.randint(0, 2, n)\n",
    "b = np.random.randint(0, 2, n)\n",
    "c = np.random.randint(0, 2, n)\n",
    "d = np.random.randint(0, 2, n)\n",
    "x = a + b + c + d\n",
    "for i in range(n):\n",
    "    if x[i] == 2:\n",
    "        k += 1\n",
    "\n",
    "print(k, n, k/n)\n",
    "\n",
    "def p(n, k):\n",
    "    c = "
   ]
  }
 ],
 "metadata": {
  "kernelspec": {
   "display_name": "Python 3",
   "language": "python",
   "name": "python3"
  },
  "language_info": {
   "codemirror_mode": {
    "name": "ipython",
    "version": 3
   },
   "file_extension": ".py",
   "mimetype": "text/x-python",
   "name": "python",
   "nbconvert_exporter": "python",
   "pygments_lexer": "ipython3",
   "version": "3.7.3"
  }
 },
 "nbformat": 4,
 "nbformat_minor": 2
}
